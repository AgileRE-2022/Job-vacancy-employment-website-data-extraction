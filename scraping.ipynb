{
 "cells": [
  {
   "cell_type": "code",
   "execution_count": 62,
   "metadata": {},
   "outputs": [],
   "source": [
    "import pandas as pd\n",
    "import numpy as np\n",
    "import re\n",
    "from io import StringIO\n",
    "from html.parser import HTMLParser\n",
    "import parameter\n",
    "from parsel import Selector\n",
    "from time import sleep\n",
    "from selenium.webdriver.edge.service import Service\n",
    "from selenium import webdriver\n",
    "from selenium.webdriver.support import expected_conditions as EC\n",
    "from selenium.webdriver.support.ui import WebDriverWait\n",
    "from bs4 import BeautifulSoup"
   ]
  },
  {
   "cell_type": "code",
   "execution_count": 36,
   "metadata": {},
   "outputs": [
    {
     "name": "stderr",
     "output_type": "stream",
     "text": [
      "C:\\Users\\helmi\\AppData\\Local\\Temp\\ipykernel_16984\\2990130579.py:2: DeprecationWarning: executable_path has been deprecated, please pass in a Service object\n",
      "  driver = webdriver.Edge('C:/Users/helmi/Downloads/edgedriver_win64/msedgedriver.exe')\n",
      "C:\\Users\\helmi\\AppData\\Local\\Temp\\ipykernel_16984\\2990130579.py:8: DeprecationWarning: find_element_by_name is deprecated. Please use find_element(by=By.NAME, value=name) instead\n",
      "  username = driver.find_element_by_name('session_key')\n",
      "C:\\Users\\helmi\\AppData\\Local\\Temp\\ipykernel_16984\\2990130579.py:10: DeprecationWarning: find_element_by_name is deprecated. Please use find_element(by=By.NAME, value=name) instead\n",
      "  password = driver.find_element_by_name('session_password')\n",
      "C:\\Users\\helmi\\AppData\\Local\\Temp\\ipykernel_16984\\2990130579.py:12: DeprecationWarning: find_element_by_class_name is deprecated. Please use find_element(by=By.CLASS_NAME, value=name) instead\n",
      "  submit = driver.find_element_by_class_name('sign-in-form__submit-button')\n",
      "C:\\Users\\helmi\\AppData\\Local\\Temp\\ipykernel_16984\\2990130579.py:19: DeprecationWarning: find_elements_by_xpath is deprecated. Please use find_elements(by=By.XPATH, value=xpath) instead\n",
      "  links = driver.find_elements_by_xpath(\"//a[@class='disabled ember-view job-card-container__link']\")\n"
     ]
    }
   ],
   "source": [
    "#webdriver microsoft edge\n",
    "driver = webdriver.Edge('C:/Users/helmi/Downloads/edgedriver_win64/msedgedriver.exe')\n",
    "\n",
    "#mengakses web linkedin\n",
    "driver.get('https://www.linkedin.com')\n",
    "\n",
    "# login\n",
    "username = driver.find_element_by_name('session_key')\n",
    "username.send_keys(parameter.email)\n",
    "password = driver.find_element_by_name('session_password')\n",
    "password.send_keys(parameter.password)\n",
    "submit = driver.find_element_by_class_name('sign-in-form__submit-button')\n",
    "submit.click()\n",
    "sleep(2)\n",
    "\n",
    "driver.get(parameter.siteQuery)\n",
    "sleep(5)\n",
    "wait = WebDriverWait(driver, 20)\n",
    "links = driver.find_elements_by_xpath(\"//a[@class='disabled ember-view job-card-container__link']\")\n",
    "links =[link.get_attribute(\"href\") for link in links]\n",
    "sleep(1)\n",
    "\n",
    "listTitle = []\n",
    "listCompanies = []\n",
    "listLocations=[]\n",
    "listDescriptions=[]\n",
    "for link in links :\n",
    "    driver.get(link)\n",
    "    sleep(5)\n",
    "    sel= Selector(text=driver.page_source)\n",
    "    titles = sel.xpath('//h1[@class=\"t-24 t-bold jobs-unified-top-card__job-title\"]/text()').extract()\n",
    "    listTitle.append(titles[0])\n",
    "    companies = sel.xpath('//span[@class=\"jobs-unified-top-card__company-name\"]').extract()\n",
    "    listCompanies.append(companies[0])\n",
    "    locations = sel.xpath('//span[@class=\"jobs-unified-top-card__bullet\"]/text()').extract()\n",
    "    listLocations.append(locations[0])\n",
    "    descriptions = sel.xpath('//*[@id=\"job-details\"]').extract()\n",
    "    listDescriptions.append(descriptions[0])"
   ]
  },
  {
   "cell_type": "code",
   "execution_count": 56,
   "metadata": {},
   "outputs": [
    {
     "name": "stdout",
     "output_type": "stream",
     "text": [
      "['System Analyst', 'System Analyst', 'Junior IT Operation - Reporting (Surabaya)', 'Bootcamp Software Developer', 'System Analyst', 'Data Scientist', 'System Analyst'] ['HADEJUN INDONESIA', 'PT GITS Indonesia', 'Tunaiku', 'Kodehive', 'PT Glovory Technologies Indonesia', 'PT Prodia Widyahusada Tbk', 'Artajasa Pembayaran Elektronis'] ['Bogor, West Java, Indonesia', 'Greater Bandung', 'Surabaya, West Java, Indonesia', 'Jakarta, Jakarta, Indonesia', 'Malang, East Java, Indonesia', 'Jakarta, Jakarta, Indonesia', 'Tangerang Selatan, Banten, Indonesia'] ['            About the job           QualificationsDegree in computer science, information systems, or relevant field.Prior experience as a systems analyst or in a similar position.Business-related qualifications a plus.Strong analytical and problem-solving skills.Excellent communication skills.Ability to work well in a teamMicrosoft OfficeSQLHaving skill programming language such as : PHP AND JAVASCRIPT FRAMEWORK Having experience for application deploymentSystem administrationRemote working (visit to office twice in one weeks) ', \"            About the job                 This job is sourced from a job board.      Learn more Deploy, maintain, and troubleshoot core business applications, including application servers, associated hardware, endpoints, and databasesMeet and coordinate with internal and external stakeholders to establish project scope, system goals, and requirementsDevelop, analyze, prioritize, and organize requirement specifications, data mapping, diagrams, and flowcharts for developers and testers to followTranslate highly technical specifications into clear non-technical requirementsManage the set-up and configuration of systemsDefine and coordinate the execution of testing procedures, and develop test cases to serve the overall quality assurance processProvide documentation of all processes and training as neededDevelop and implement maintenance procedures, monitor systems health, gather system statistics, and troubleshoot reported errors and alarmsPerform design, implementation, and upgrades of information systems to meet the business and user needsImplement best practices for scalability, supportability, ease of maintenance, and system performanceMinimum QualificationsBachelor's degree in computer science or information technology, or equivalent experienceMin. 2 years experience working with information technologies and systems analysisStrong computer, hardware, software, and analytical skillsProven ability to assess business needs and translate them into relevant solutionsStrong understanding and knowledge of the principles and practices associated with database maintenance and administrationExperience installing, configuring, documenting, testing, training, and implementing new applications and systemsWorking knowledge of a wide variety of programming languages \", '            About the job                 This job is sourced from a job board.      Learn more               IT Ops Reporting position will be working at Amar Bank’s Surabaya office. This role is going to be supporting data and information needs for reporting purposes, as well as monitoring the application of the fund transfer system (BI-RTGS & SKNBI). While working on the reporting to ensure the smooth operation of banking as a whole, this role will be also handling troubleshooting and reporting problems that might occur on the system.What You Will Be DoingMonitoring & maintenance of BI-RTGS & SKNBI Prepare requests for data and information from circles.Provide support for the smooth running of the reporting team in the reporting process to the Internal dan Eksternal RegulatorWhat You Need To HaveExperienced with min 1 year experience in the banking industry reportingFamiliar with banking reporting (e.g. LBU, Antasena, Apolo)Proficient in SQL Server, SQL Query, and ExcelAble to analyze problems related to information systems and databases (SQL, Oracle, DB2)Have a good communication skills and is a team player.Have can-do attitude ', '            About the job                 This job is sourced from a job board.      Learn more What Will We DoSoft Skills TrainingIntensive Training & Development, questioning method, sharing tips, and update on the latest technologySoftware Engineering and database architectureTechnical workflow with a best practice approachPersonal Development ProgramCompetitive remuneration and career pathWilling to relocate to JakartaMinimum QualificationsAge maximum 27 years oldPossess at least Diploma/Bachelor Degree from Computer Science/Information Technology/ Computer Engineering/ Information System/ Electrical Engineering/ Physic/ Mathematics/ Statistic/ Telecommunication or other engineering relevant backgroundFresh graduates/Entry level applicants are encouraged to applyHigh interest and passion in \"logic\" and \"code\"Have basic knowledge about logic (Algorithm) and query (SQL)High interest to be an expert in Software TechnologyEager to learn and communicative ', \"            About the job                         Company Description: We create a digital product from end to end. We build a digital product from user research, analysis, scratches such as planning and designing UI and UX, usability testing, developing front and back-end, as well as deploying test and then maintaining the end-product. Job Description: Meet and coordinate with internal and external stakeholders to establish project scope, system goals, and requirements. Develop, analyze, prioritize, and organize requirement specifications, data mapping, diagrams, and flowcharts for developers and testers to follow. Translate highly technical specifications into clear non-technical requirements. Manage the set-up and configuration of systems. Define and coordinate the execution of testing procedures, and develop test cases to serve the overall quality assurance process. Provide documentation of all processes and training as needed. Develop and Implement maintenance procedures, monitor systems health, gather system statistics, and troubleshoot reported errors and alarms. Perform design, implementation, and upgrades of information systems to meet the business and user needs. Implement best practices for scalability, supportability, ease of maintenance, and system performance. Prepare new system's ERD. \", \"            About the job                 This job is sourced from a job board.      Learn more Perform data collection both structured and unstructured data to support data models, data analysis and develop data collection process.Create, update, recommend predictive data models, algorithm machine learning, and provide design analytics recommendationsMinimum QualificationsBachelor's Degree in Informatics Engineering/Information System/Computer Science/Statistics. Min GPA 3.00 (Scale 4.00)Have 1 year working experience as Data ScientistMastering data analysis using R Language & Pyhton \", \"            About the job           Responsibilities:Deploy, maintain, and troubleshoot core business applications, including application servers, associated hardware, endpoints, and databasesMeet and coordinate with internal and external stakeholders to establish project scope, system goals, and requirementsDevelop, analyze, prioritize, and organize requirement specifications, data mapping, diagrams, and flowcharts for developers and testers to followTranslate highly technical specifications into clear non-technical requirementsDefine and coordinate the execution of testing procedures, and develop test cases to serve the overall quality assurance processProvide documentation of all processes and training as neededDevelop and implement maintenance procedures, monitor systems health, gather system statistics, and troubleshoot reported errors and alarmsPerform design, implementation, and upgrades of information systems to meet the business and user needsImplement best practices for scalability, supportability, ease of maintenance, and system performanceRequirement:Bachelor's degree in computer science, information technology or electrical engineer, or equivalent experienceMinimal 2-3 years experience working with information technologies and systems analysisStrong computer, hardware, cloud, software, database, operating system, and analytical skillsProven ability to assess business needs and translate them into relevant solutionsStrong understanding and knowledge of the principles and practices associated with database maintenance and administrationExperience installing, configuring, documenting, testing, training, and implementing new applications and systemsWorking knowledge of a wide variety of programming languagesStrong knowledge on APIs, Secure, Reliable, scalable and high-performance payment system applicationHaving knowledge on microservice, CI/CD or devops and agile environment will be preferableExcellent analytical skills \"]\n"
     ]
    }
   ],
   "source": [
    "listCompanies2=[]\n",
    "listLocations2=[]\n",
    "listDescriptions2=[]\n",
    "for company in listCompanies :\n",
    "        company = BeautifulSoup(company,features='html.parser').text\n",
    "        company = company.strip(' \\n')\n",
    "        listCompanies2.append(company)\n",
    "for location in listLocations :\n",
    "        location = BeautifulSoup(location,features='html.parser').text\n",
    "        location = location.strip(' \\n')\n",
    "        listLocations2.append(location)\n",
    "for description in listDescriptions :\n",
    "        description = BeautifulSoup(description,features='html.parser').text\n",
    "        description = re.sub(r'\\n', '', description)\n",
    "        listDescriptions2.append(description)\n",
    "\n",
    "print(listTitle,listCompanies2,listLocations2,listDescriptions2)"
   ]
  },
  {
   "cell_type": "code",
   "execution_count": 66,
   "metadata": {},
   "outputs": [],
   "source": [
    "data = [listTitle,listCompanies2,listLocations2,listDescriptions2]        \n",
    "data = np.transpose(data)\n",
    "column = ['Title','Companies','Locations','Descriptions']\n",
    "df = pd.DataFrame(data=data, columns=column)\n",
    "df.to_csv('hasil.csv')"
   ]
  }
 ],
 "metadata": {
  "kernelspec": {
   "display_name": "Python 3.9.5 64-bit",
   "language": "python",
   "name": "python3"
  },
  "language_info": {
   "codemirror_mode": {
    "name": "ipython",
    "version": 3
   },
   "file_extension": ".py",
   "mimetype": "text/x-python",
   "name": "python",
   "nbconvert_exporter": "python",
   "pygments_lexer": "ipython3",
   "version": "3.9.5"
  },
  "orig_nbformat": 4,
  "vscode": {
   "interpreter": {
    "hash": "69a858b5c61e93b122d6f735e30ab7a27bfe943ea8d5a2d22080e59933814634"
   }
  }
 },
 "nbformat": 4,
 "nbformat_minor": 2
}
